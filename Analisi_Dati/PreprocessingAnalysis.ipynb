{
 "cells": [
  {
   "cell_type": "markdown",
   "source": [
    "# Distribuzione file del Dataset in seguito alle fasi di Preprocessing"
   ],
   "metadata": {
    "collapsed": false
   }
  },
  {
   "cell_type": "code",
   "source": [
    "# Import necessary libraries\n",
    "import os\n",
    "import matplotlib.pyplot as plt\n",
    "\n",
    "# Function to count files in a folder\n",
    "def count_files_in_folder(folder_path):\n",
    "    return len([f for f in os.listdir(folder_path) if os.path.isfile(os.path.join(folder_path, f))])\n",
    "\n",
    "# Paths to the main directory and its subdirectories\n",
    "main_folder_path = 'C:\\\\Users\\\\biagi\\\\PycharmProjects\\\\gruppo17\\\\Esperimento 2 Binary\\\\Allenamento_Norm'\n",
    "target_path = os.path.join(main_folder_path, 'Target')\n",
    "non_target_path = os.path.join(main_folder_path, 'Non-target')\n",
    "\n",
    "# Get file counts\n",
    "target_count = count_files_in_folder(target_path)\n",
    "non_target_count = count_files_in_folder(non_target_path)\n",
    "\n",
    "# Prepare data for plotting\n",
    "counts = {'Target': target_count, 'Non-target': non_target_count}\n",
    "\n",
    "# Determine max count and corresponding folder\n",
    "max_count = max(counts.values())\n",
    "max_folder = max(counts, key=counts.get)\n",
    "\n",
    "# Plotting\n",
    "fig, ax = plt.subplots(figsize=(12, 10))  # Increased height to 10\n",
    "plt.rcParams.update({'font.size': 15})\n",
    "\n",
    "# Bar plot\n",
    "bars = ax.bar(counts.keys(), counts.values(), color=['blue', 'orange'])\n",
    "\n",
    "# Add labels and title\n",
    "ax.set_xlabel('Categorie')\n",
    "ax.set_ylabel('Scalogrammi')\n",
    "\n",
    "# Add value labels on top of the bars\n",
    "for bar in bars:\n",
    "    height = bar.get_height()\n",
    "    ax.annotate(f'{height}',\n",
    "                xy=(bar.get_x() + bar.get_width() / 2, height),\n",
    "                xytext=(0, 3),  # 3 points vertical offset\n",
    "                textcoords=\"offset points\",\n",
    "                ha='center', va='bottom')\n",
    "\n",
    "# Add a horizontal line for the max value\n",
    "ax.axhline(y=max_count, color='red', linestyle='--', label=f'Max: {max_count} ({max_folder})')\n",
    "ax.legend()\n",
    "\n",
    "# Adjust layout\n",
    "plt.tight_layout()\n",
    "\n",
    "# Show plot\n",
    "plt.show()"
   ],
   "metadata": {
    "collapsed": false,
    "ExecuteTime": {
     "end_time": "2024-06-09T14:13:29.435508Z",
     "start_time": "2024-06-09T14:13:17.920956Z"
    }
   },
   "execution_count": 8,
   "outputs": []
  },
  {
   "cell_type": "markdown",
   "source": [
    "# Distribuzione dei file nelle classi minoritarie"
   ],
   "metadata": {
    "collapsed": false
   }
  },
  {
   "cell_type": "code",
   "source": [
    "# Import necessary libraries\n",
    "import os\n",
    "import matplotlib.pyplot as plt\n",
    "\n",
    "# Function to count files in each subfolder\n",
    "def count_files_in_subfolders(parent_folder):\n",
    "    subfolder_counts = {}\n",
    "    for subfolder in os.listdir(parent_folder):\n",
    "        subfolder_path = os.path.join(parent_folder, subfolder)\n",
    "        if os.path.isdir(subfolder_path):\n",
    "            file_count = sum([len(files) for r, d, files in os.walk(subfolder_path)])\n",
    "            subfolder_counts[subfolder] = file_count\n",
    "    return subfolder_counts\n",
    "\n",
    "# Paths to the Target and non-target directories\n",
    "target_path = r'C:\\Users\\biagi\\PycharmProjects\\gruppo17\\Altro\\Target'\n",
    "non_target_path = r'C:\\Users\\biagi\\PycharmProjects\\gruppo17\\Altro\\Non-Target'\n",
    "\n",
    "# Get file counts\n",
    "target_counts = count_files_in_subfolders(target_path)\n",
    "non_target_counts = count_files_in_subfolders(non_target_path)\n",
    "\n",
    "# Combine target and non-target counts\n",
    "combined_counts = {**{f'Target - {k}': v for k, v in target_counts.items()},\n",
    "                   **{f'Non-target - {k}': v for k, v in non_target_counts.items()}}\n",
    "\n",
    "# Plotting\n",
    "fig, ax = plt.subplots(figsize=(14, 14))\n",
    "plt.rcParams.update({'font.size': 12})\n",
    "\n",
    "# Plot combined data\n",
    "colors = ['blue' if 'Target' in key else 'green' for key in combined_counts.keys()]\n",
    "ax.bar(combined_counts.keys(), combined_counts.values(), color=colors)\n",
    "ax.set_title('File Counts in Target and Non-Target Subfolders')\n",
    "ax.set_xlabel('Subfolders')\n",
    "ax.set_ylabel('Number of Files')\n",
    "ax.tick_params(axis='x', rotation=90)  # Rotate x labels\n",
    "\n",
    "# Calculate and annotate the total number of files\n",
    "total_files = sum(combined_counts.values())\n",
    "ax.text(0.95, 0.95, f'Total Files: {total_files}', transform=ax.transAxes,\n",
    "        fontsize=14, verticalalignment='top', horizontalalignment='right',\n",
    "        bbox=dict(facecolor='white', alpha=0.5))\n",
    "\n",
    "# Adjust layout\n",
    "plt.tight_layout()\n",
    "\n",
    "# Show plot\n",
    "plt.show()\n"
   ],
   "metadata": {
    "collapsed": false,
    "ExecuteTime": {
     "end_time": "2024-06-09T10:30:25.182265Z",
     "start_time": "2024-06-09T10:30:23.787853Z"
    }
   },
   "execution_count": 1,
   "outputs": []
  },
  {
   "cell_type": "markdown",
   "source": [],
   "metadata": {
    "collapsed": false
   }
  }
 ],
 "metadata": {
  "kernelspec": {
   "display_name": "Python 3",
   "language": "python",
   "name": "python3"
  },
  "language_info": {
   "codemirror_mode": {
    "name": "ipython",
    "version": 2
   },
   "file_extension": ".py",
   "mimetype": "text/x-python",
   "name": "python",
   "nbconvert_exporter": "python",
   "pygments_lexer": "ipython2",
   "version": "2.7.6"
  }
 },
 "nbformat": 4,
 "nbformat_minor": 0
}
