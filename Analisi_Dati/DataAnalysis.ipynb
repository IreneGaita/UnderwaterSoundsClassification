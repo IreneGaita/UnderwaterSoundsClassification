{
 "cells": [
  {
   "cell_type": "code",
   "execution_count": null,
   "source": [
    "%matplotlib inline"
   ],
   "metadata": {
    "collapsed": false
   },
   "outputs": []
  },
  {
   "cell_type": "markdown",
   "source": [
    "# Distribuzione dei file all'interno del Dataset"
   ],
   "metadata": {
    "collapsed": false
   }
  },
  {
   "cell_type": "code",
   "execution_count": 2,
   "source": [
    "# Import necessary libraries\n",
    "import os\n",
    "import matplotlib.pyplot as plt\n",
    "\n",
    "# Function to count files in each subfolder\n",
    "def count_files_in_subfolders(parent_folder):\n",
    "    subfolder_counts = {}\n",
    "    for subfolder in os.listdir(parent_folder):\n",
    "        subfolder_path = os.path.join(parent_folder, subfolder)\n",
    "        if os.path.isdir(subfolder_path):\n",
    "            file_count = sum([len(files) for r, d, files in os.walk(subfolder_path)])\n",
    "            subfolder_counts[subfolder] = file_count\n",
    "    return subfolder_counts\n",
    "\n",
    "# Paths to the Target and non-target directories\n",
    "target_path = 'Dataset/Target'\n",
    "non_target_path = 'Dataset/Non-target'\n",
    "\n",
    "# Get file counts\n",
    "target_counts = count_files_in_subfolders(target_path)\n",
    "non_target_counts = count_files_in_subfolders(non_target_path)\n",
    "\n",
    "# Plotting\n",
    "fig, axes = plt.subplots(2, 1, figsize=(10, 15))  # Cambia 1 in 2 per disporre i plot uno sotto l'altro\n",
    "fig.set_figwidth(16)\n",
    "# Plot for Target\n",
    "axes[0].bar(target_counts.keys(), target_counts.values(), color='blue')\n",
    "axes[0].set_title('File Counts in Target Subfolders')\n",
    "axes[0].set_xlabel('Subfolders')\n",
    "axes[0].set_ylabel('Number of Files')\n",
    "axes[0].tick_params(axis='x', rotation=90)  # Ruota le etichette di 90 gradi\n",
    "\n",
    "# Plot for Non Target\n",
    "axes[1].bar(non_target_counts.keys(), non_target_counts.values(), color='blue')\n",
    "axes[1].set_title('File Counts in Non Target Subfolders')\n",
    "axes[1].set_xlabel('Subfolders')\n",
    "axes[1].set_ylabel('Number of Files')\n",
    "axes[1].tick_params(axis='x', rotation=90)  # Ruota le etichette di 90 gradi\n",
    "\n",
    "# Regola lo spazio tra i plot\n",
    "plt.tight_layout()\n",
    "\n",
    "# Mostra i plot\n",
    "plt.show()\n"
   ],
   "metadata": {
    "collapsed": false
   },
   "outputs": []
  },
  {
   "cell_type": "markdown",
   "source": [
    "# Analisi  delle Frequenze di Campionamento"
   ],
   "metadata": {
    "collapsed": false
   }
  },
  {
   "cell_type": "code",
   "source": [
    "from Set_Data.Lettura_Freq import analyze_audio_files\n",
    "import matplotlib.pyplot as plt\n",
    "\n",
    "# Ottieni il dizionario di frequenze e numero di audio associato\n",
    "frequencies_campionamento, frequencies_max = analyze_audio_files()\n",
    "\n",
    "# Estrai le chiavi (frequenze) e i valori (numero di audio) dal dizionario\n",
    "frequency_values = list(frequencies_campionamento.keys())\n",
    "audio_numbers = list(frequencies_campionamento.values())\n",
    "\n",
    "# Ordina le frequenze e i numeri di audio in base alle frequenze\n",
    "sorted_indices = sorted(range(len(frequency_values)), key=lambda k: frequency_values[k])\n",
    "sorted_frequency_values = [frequency_values[i] for i in sorted_indices]\n",
    "sorted_audio_numbers = [audio_numbers[i] for i in sorted_indices]\n",
    "\n",
    "# Imposta le dimensioni della figura\n",
    "plt.figure(figsize=(10, 6))  # Imposta larghezza a 10 pollici e altezza a 6 pollici\n",
    "\n",
    "# Crea il grafico a barre\n",
    "bars = plt.bar(range(len(sorted_frequency_values)), sorted_audio_numbers, color='blue')\n",
    "\n",
    "# Aggiungi le etichette delle frequenze sotto le barre e ruotale di 90 gradi\n",
    "plt.xticks(range(len(sorted_frequency_values)), sorted_frequency_values, rotation=90)\n",
    "\n",
    "plt.xlabel('Frequenza del segnale audio')\n",
    "plt.ylabel('Numero di audio')\n",
    "plt.title('Istogramma delle Frequenze')\n",
    "\n",
    "# Imposta l'asse y con uno spazio aggiuntivo per l'annotazione più alta\n",
    "max_audio_number = max(sorted_audio_numbers)\n",
    "plt.ylim(0, max_audio_number * 1.1)  # Aumenta l'asse y del 10%\n",
    "\n",
    "# Aggiungi annotazioni sopra le barre\n",
    "for bar, audio_count in zip(bars, sorted_audio_numbers):\n",
    "    plt.text(bar.get_x() + bar.get_width() / 2, bar.get_height(), str(audio_count),\n",
    "             ha='center', va='bottom', color='black',fontsize=7)\n",
    "\n",
    "plt.show()  # Mostra il grafico\n",
    "\n",
    "# Trova la massima frequenza massima di riproduzione tra tutti i file audio\n",
    "max_playback_frequency = max(frequencies_max.keys())\n",
    "\n",
    "# Definisci il numero di intervalli di frequenza desiderati\n",
    "num_intervals = 40\n",
    "\n",
    "# Calcola l'ampiezza di ciascun intervallo di frequenza\n",
    "frequency_step = max_playback_frequency / num_intervals\n",
    "\n",
    "# Inizializza il dizionario per contare il numero di file audio per ciascun intervallo di frequenza\n",
    "frequency_counts = {f'{i * frequency_step:.0f}-{(i + 1) * frequency_step:.0f} Hz': 0 for i in range(num_intervals)}\n",
    "\n",
    "# Aggiorna il conteggio dei file audio per ciascun intervallo di frequenza\n",
    "for frequency, count in frequencies_max.items():\n",
    "    interval = min(int(frequency / frequency_step), num_intervals - 1)  # Assicura che non superi il numero massimo di intervalli\n",
    "    interval_key = f'{interval * frequency_step:.0f}-{(interval + 1) * frequency_step:.0f} Hz'\n",
    "    frequency_counts[interval_key] += count\n",
    "\n",
    "# Crea il grafico a barre\n",
    "plt.figure(figsize=(12, 6))\n",
    "bars = plt.bar(frequency_counts.keys(), frequency_counts.values(), color='green')\n",
    "\n",
    "# Aggiungi l'annotazione del testo sopra ciascuna barra\n",
    "for bar, count in zip(bars, frequency_counts.values()):\n",
    "    plt.text(bar.get_x() + bar.get_width() / 2, bar.get_height(), str(count),\n",
    "             ha='center', va='bottom', fontsize=9, color='black')\n",
    "\n",
    "# Personalizza l'aspetto del grafico\n",
    "plt.xlabel('Intervallo di Frequenza Massima di Riproduzione')\n",
    "plt.ylabel('Numero di Audio')\n",
    "plt.title(f'Distribuzione del Numero di File Audio per Intervallo di Frequenza Massima di Riproduzione')\n",
    "plt.xticks(rotation=90)\n",
    "plt.tight_layout()\n",
    "plt.show()\n"
   ],
   "metadata": {
    "collapsed": false,
    "ExecuteTime": {
     "end_time": "2024-05-21T09:39:15.595161Z",
     "start_time": "2024-05-21T09:37:59.079791Z"
    }
   },
   "execution_count": 1,
   "outputs": []
  },
  {
   "cell_type": "markdown",
   "source": [
    "Abbiamo optato per la frequenza massima di 43200 Hz sulla base di un'analisi dei file audio disponibili, che ha rivelato che la maggior parte di essi presentava una frequenza massima di riproduzione al di sotto di questa soglia. Questo ci ha portato a selezionare una frequenza di campionamento che fosse sufficientemente alta da catturare tutti i dettagli essenziali del segnale audio senza sprecare risorse computazionali e di archiviazione campionando a una frequenza maggiore di quella necessaria.\n",
    "\n",
    "L'applicazione del criterio di Nyquist ha poi confermato che la frequenza di campionamento scelta, pari a 86400 campioni al secondo, era adeguata per evitare l'aliasing e garantire una rappresentazione accurata del segnale nel dominio digitale. In questo modo, abbiamo potuto massimizzare l'efficienza e la qualità del nostro processo di campionamento audio."
   ],
   "metadata": {
    "collapsed": false
   }
  },
  {
   "cell_type": "markdown",
   "source": [
    "# Analisi e Visualizzazione della Distribuzione delle Durate dei File Audio"
   ],
   "metadata": {
    "collapsed": false
   }
  },
  {
   "cell_type": "code",
   "source": [
    "from Set_Data.Lettura_Durata import audio_info\n",
    "import matplotlib.pyplot as plt\n",
    "\n",
    "# Funzione per determinare l'intervallo di tempo\n",
    "def get_interval(minutes, seconds):\n",
    "    if minutes == 0:\n",
    "        if seconds <= 5:\n",
    "            return \"0-5 secondi\"\n",
    "        if seconds <= 10:\n",
    "            return \"5-10 secondi\"\n",
    "        if seconds <= 15:\n",
    "            return \"10-15 secondi\"\n",
    "        if seconds <= 20:\n",
    "            return \"15-20 secondi\"\n",
    "        if seconds <= 30:\n",
    "            return \"20-30 secondi\"\n",
    "        return \"30-60 secondi\"\n",
    "    if minutes <= 10:\n",
    "        return \"1-10 minuti\"\n",
    "    if minutes <= 20:\n",
    "        return \"10-20 minuti\"\n",
    "    if minutes <= 30:\n",
    "        return \"20-30 minuti\"\n",
    "    return \"30-60 minuti\"\n",
    "\n",
    "# Lettura dei dati audio\n",
    "audio_info_dict = audio_info()\n",
    "\n",
    "# Definizione degli intervalli\n",
    "intervals = {\n",
    "    \"0-5 secondi\": 0,\n",
    "    \"5-10 secondi\": 0,\n",
    "    \"10-15 secondi\": 0,\n",
    "    \"15-20 secondi\": 0,\n",
    "    \"20-30 secondi\": 0,\n",
    "    \"30-60 secondi\": 0,\n",
    "    \"1-10 minuti\": 0,\n",
    "    \"10-20 minuti\": 0,\n",
    "    \"20-30 minuti\": 0,\n",
    "    \"30-60 minuti\": 0,\n",
    "}\n",
    "\n",
    "# Conteggio dei file audio per intervallo\n",
    "for minutes, seconds in audio_info_dict.values():\n",
    "    interval = get_interval(minutes, seconds)\n",
    "    intervals[interval] += 1\n",
    "\n",
    "# Estrazione dei dati per il grafico della distribuzione generale\n",
    "labels, counts = zip(*intervals.items())\n",
    "\n",
    "# Creazione del grafico a barre per la distribuzione generale\n",
    "plt.figure(figsize=(12, 6))\n",
    "bars = plt.bar(labels, counts, color='blue')\n",
    "\n",
    "# Annotazione del testo sopra ciascuna barra\n",
    "for bar, count in zip(bars, counts):\n",
    "    plt.text(bar.get_x() + bar.get_width() / 2, bar.get_height(), str(count),\n",
    "             ha='center', va='bottom', fontsize=13, color='black')\n",
    "\n",
    "plt.xlabel('Durata')\n",
    "plt.ylabel('Numero di Audio')\n",
    "plt.title('Distribuzione delle Durate dei File Audio')\n",
    "plt.xticks(rotation=45, ha='right')\n",
    "plt.tight_layout()\n",
    "plt.show()\n",
    "\n",
    "# Definizione degli intervalli per durate inferiori a 15 secondi\n",
    "short_intervals = {f\"{i} secondi\" if i != 1 else \"1 secondo\": 0 for i in range(16)}\n",
    "\n",
    "# Conteggio totale dei file audio\n",
    "total_files = 0\n",
    "\n",
    "# Conteggio dei file audio per intervallo inferiore a 15 secondi\n",
    "for minutes, seconds in audio_info_dict.values():\n",
    "    if minutes == 0 and seconds <= 15:\n",
    "        interval_label = f\"{seconds} secondi\" if seconds != 1 else \"1 secondo\"\n",
    "        short_intervals[interval_label] += 1\n",
    "        total_files += 1\n",
    "\n",
    "# Estrazione dei dati per il grafico della distribuzione breve\n",
    "short_labels, short_counts = zip(*short_intervals.items())\n",
    "\n",
    "# Creazione del grafico a barre per la distribuzione breve\n",
    "plt.figure(figsize=(12, 6))\n",
    "short_bars = plt.bar(short_labels, short_counts, color='green')\n",
    "\n",
    "# Annotazione del testo sopra ciascuna barra\n",
    "for bar, count in zip(short_bars, short_counts):\n",
    "    plt.text(bar.get_x() + bar.get_width() / 2, bar.get_height(), str(count),\n",
    "             ha='center', va='bottom', fontsize=13, color='black')\n",
    "\n",
    "plt.xlabel('Durata')\n",
    "plt.ylabel('Numero di Audio')\n",
    "plt.title(f'Distribuzione delle Durate dei File Audio (Meno di 16 Secondi, Totale: {total_files})')\n",
    "plt.xticks(rotation=45, ha='right')\n",
    "plt.tight_layout()\n",
    "plt.show()"
   ],
   "metadata": {
    "collapsed": false,
    "ExecuteTime": {
     "end_time": "2024-05-20T09:15:02.355645Z",
     "start_time": "2024-05-20T09:14:17.466357Z"
    }
   },
   "execution_count": 1,
   "outputs": []
  },
  {
   "cell_type": "markdown",
   "source": [
    "Per determinare una durata rappresentativa e ottimale per il taglio dei file audio, abbiamo calcolato la mediana delle durate comprese tra 0 e 15 secondi, che è risultata essere pari a 3 secondi. Questo valore centrale rappresenta la durata tipica degli audio brevi nel dataset: metà dei file audio ha una durata inferiore o pari a 3 secondi, mentre l'altra metà ha una durata superiore. Utilizzare la mediana come riferimento ci assicura una rappresentazione equa della maggior parte dei file audio.\n",
    "\n",
    "Riducendo la durata dei file audio a 3 secondi, ottimizziamo l'efficienza computazionale durante la fase di addestramento del modello di apprendimento. Questo si traduce in un minor utilizzo di risorse computazionali per il processamento e l'analisi dei file audio più brevi, riducendo i tempi di addestramento e migliorando le prestazioni complessive del modello. Inoltre, troncando i file audio a una durata standard di 3 secondi, garantiamo uniformità nei dati di input, il che è cruciale per il modello di apprendimento in quanto lavora meglio con input di dimensioni costanti. Questa uniformità riduce la variabilità e migliora la coerenza dei risultati del modello."
   ],
   "metadata": {
    "collapsed": false
   }
  },
  {
   "cell_type": "markdown",
   "source": [
    "# Standardizzazione del Bit Depth e analisi tipo file"
   ],
   "metadata": {
    "collapsed": false
   }
  },
  {
   "cell_type": "code",
   "source": [
    "from Set_Data.Bit_Depth import audio_info\n",
    "\n",
    "bit_depth_count = audio_info()"
   ],
   "metadata": {
    "ExecuteTime": {
     "end_time": "2024-05-15T18:58:39.564798Z",
     "start_time": "2024-05-15T18:58:28.389001Z"
    }
   },
   "execution_count": 5,
   "outputs": []
  },
  {
   "cell_type": "markdown",
   "source": [
    "Per garantire coerenza e qualità nei file audio, è importante convertire i file MP3 in WAV. I file MP3 utilizzano una compressione lossy che riduce la qualità del suono, mentre i file WAV sono lossless e mantengono tutte le informazioni audio originali. Sebbene la qualità persa con la compressione MP3 non possa essere recuperata, la conversione in WAV previene ulteriori perdite di qualità e standardizza il formato dei file audio.\n",
    "\n",
    "È inoltre essenziale standardizzare il bit depth, e la scelta di utilizzare 16 bit come standard presenta diversi vantaggi. Prima di tutto, la maggior parte dei file audio già utilizza questo formato, quindi convertirli tutti a 16 bit assicura uniformità nel dataset. Inoltre, i 16 bit offrono una qualità del suono adeguata per la maggior parte delle applicazioni audio, garantendo un'esperienza uditiva soddisfacente. L'efficienza computazionale è un altro fattore cruciale, infatti riducendo la quantità di dati da elaborare, l'utilizzo di 16 bit migliora significativamente l'efficienza nei processi di elaborazione audio, rendendo più agevole e veloce il flusso di lavoro. Pertanto, convertire tutti i file audio a 16 bit signed PCM rappresenta un buon compromesso tra qualità, coerenza ed efficienza computazionale, ottimizzando il dataset per l'uso previsto e garantendo una gestione fluida e efficiente dei file audio."
   ],
   "metadata": {
    "collapsed": false
   }
  },
  {
   "cell_type": "markdown",
   "source": [
    "# Scelta conversione Canale Audio"
   ],
   "metadata": {
    "collapsed": false
   }
  },
  {
   "cell_type": "code",
   "execution_count": 1,
   "source": [
    "from Set_Data.Audio_Analysis import analyze_audio_files\n",
    "audio_file_info = analyze_audio_files()"
   ],
   "metadata": {
    "collapsed": false,
    "ExecuteTime": {
     "end_time": "2024-05-20T09:10:22.230585Z",
     "start_time": "2024-05-20T09:09:41.721664Z"
    }
   },
   "outputs": []
  },
  {
   "cell_type": "markdown",
   "source": [
    "La decisione di convertire i dati audio multicanale in formato monocanale si basa sull'osservazione che la maggior parte dei dati disponibili è già in questa forma, assicurando uniformità e coerenza nel loro trattamento. Questa conversione riduce anche la complessità computazionale e le risorse necessarie per l'allenamento del modello, migliorando l'efficienza complessiva del processo di apprendimento e facilitando il raggiungimento di risultati significativi."
   ],
   "metadata": {
    "collapsed": false
   }
  },
  {
   "cell_type": "markdown",
   "source": [],
   "metadata": {
    "collapsed": false
   }
  }
 ],
 "metadata": {
  "kernelspec": {
   "display_name": "Python 3",
   "language": "python",
   "name": "python3"
  },
  "language_info": {
   "codemirror_mode": {
    "name": "ipython",
    "version": 2
   },
   "file_extension": ".py",
   "mimetype": "text/x-python",
   "name": "python",
   "nbconvert_exporter": "python",
   "pygments_lexer": "ipython2",
   "version": "2.7.6"
  }
 },
 "nbformat": 4,
 "nbformat_minor": 0
}
