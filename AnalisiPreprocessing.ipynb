{
 "cells": [
  {
   "cell_type": "markdown",
   "source": [
    "# Setup"
   ],
   "metadata": {
    "collapsed": false
   }
  },
  {
   "cell_type": "code",
   "execution_count": 3,
   "outputs": [],
   "source": [],
   "metadata": {
    "collapsed": false
   }
  },
  {
   "cell_type": "code",
   "execution_count": null,
   "outputs": [],
   "source": [
    "import matplotlib.pyplot as plt\n",
    "%matplotlib inline"
   ],
   "metadata": {
    "collapsed": false
   }
  },
  {
   "cell_type": "markdown",
   "source": [
    "Instogramma Frequenze Assolute"
   ],
   "metadata": {
    "collapsed": false
   }
  },
  {
   "cell_type": "code",
   "execution_count": 12,
   "outputs": [
    {
     "name": "stdout",
     "output_type": "stream",
     "text": [
      "Errore durante la decodifica del file C:\\Users\\biagi\\PycharmProjects\\gruppo17\\Dataset\\Target\\._.DS_Store: Formato audio non supportato: .DS_Store\n",
      "Errore durante la decodifica del file C:\\Users\\biagi\\PycharmProjects\\gruppo17\\Dataset\\Target\\._Acoustic Harassment Devices: Formato audio non supportato: \n",
      "Errore durante la decodifica del file C:\\Users\\biagi\\PycharmProjects\\gruppo17\\Dataset\\Target\\._Acoustic release: Formato audio non supportato: \n",
      "Errore durante la decodifica del file C:\\Users\\biagi\\PycharmProjects\\gruppo17\\Dataset\\Target\\._Echosounder: Formato audio non supportato: \n",
      "Errore durante la decodifica del file C:\\Users\\biagi\\PycharmProjects\\gruppo17\\Dataset\\Target\\._Explosion: Formato audio non supportato: \n",
      "Errore durante la decodifica del file C:\\Users\\biagi\\PycharmProjects\\gruppo17\\Dataset\\Target\\._Fishing pinger: Formato audio non supportato: \n",
      "Errore durante la decodifica del file C:\\Users\\biagi\\PycharmProjects\\gruppo17\\Dataset\\Target\\._metadata-Target.csv: Formato audio non supportato: .csv\n",
      "Errore durante la decodifica del file C:\\Users\\biagi\\PycharmProjects\\gruppo17\\Dataset\\Target\\._Scuba divers: Formato audio non supportato: \n",
      "Errore durante la decodifica del file C:\\Users\\biagi\\PycharmProjects\\gruppo17\\Dataset\\Target\\._Seafloor fossil fuel processing: Formato audio non supportato: \n",
      "Errore durante la decodifica del file C:\\Users\\biagi\\PycharmProjects\\gruppo17\\Dataset\\Target\\._Seal bomb: Formato audio non supportato: \n",
      "Errore durante la decodifica del file C:\\Users\\biagi\\PycharmProjects\\gruppo17\\Dataset\\Target\\._Seismic airguns surveys: Formato audio non supportato: \n",
      "Errore durante la decodifica del file C:\\Users\\biagi\\PycharmProjects\\gruppo17\\Dataset\\Target\\._Sonar: Formato audio non supportato: \n",
      "Errore durante la decodifica del file C:\\Users\\biagi\\PycharmProjects\\gruppo17\\Dataset\\Target\\._Underwater Communication Signals: Formato audio non supportato: \n",
      "Errore durante la decodifica del file C:\\Users\\biagi\\PycharmProjects\\gruppo17\\Dataset\\Target\\Acoustic Harassment Devices\\._AHD_Airmar.wav: Decoding failed. ffmpeg returned error code: 3199971767\n",
      "\n",
      "Output from ffmpeg/avlib:\n",
      "\n",
      "ffmpeg version 2024-04-15-git-5e380bcdb1-essentials_build-www.gyan.dev Copyright (c) 2000-2024 the FFmpeg developers\r\n",
      "  built with gcc 13.2.0 (Rev5, Built by MSYS2 project)\r\n",
      "  configuration: --enable-gpl --enable-version3 --enable-static --disable-w32threads --disable-autodetect --enable-fontconfig --enable-iconv --enable-gnutls --enable-libxml2 --enable-gmp --enable-bzlib --enable-lzma --enable-zlib --enable-libsrt --enable-libssh --enable-libzmq --enable-avisynth --enable-sdl2 --enable-libwebp --enable-libx264 --enable-libx265 --enable-libxvid --enable-libaom --enable-libopenjpeg --enable-libvpx --enable-mediafoundation --enable-libass --enable-libfreetype --enable-libfribidi --enable-libharfbuzz --enable-libvidstab --enable-libvmaf --enable-libzimg --enable-amf --enable-cuda-llvm --enable-cuvid --enable-dxva2 --enable-d3d11va --enable-d3d12va --enable-ffnvcodec --enable-libvpl --enable-nvdec --enable-nvenc --enable-vaapi --enable-libgme --enable-libopenmpt --enable-libopencore-amrwb --enable-libmp3lame --enable-libtheora --enable-libvo-amrwbenc --enable-libgsm --enable-libopencore-amrnb --enable-libopus --enable-libspeex --enable-libvorbis --enable-librubberband\r\n",
      "  libavutil      59. 15.100 / 59. 15.100\r\n",
      "  libavcodec     61.  5.103 / 61.  5.103\r\n",
      "  libavformat    61.  3.100 / 61.  3.100\r\n",
      "  libavdevice    61.  2.100 / 61.  2.100\r\n",
      "  libavfilter    10.  2.101 / 10.  2.101\r\n",
      "  libswscale      8.  2.100 /  8.  2.100\r\n",
      "  libswresample   5.  2.100 /  5.  2.100\r\n",
      "  libpostproc    58.  2.100 / 58.  2.100\r\n",
      "[wav @ 00000216de34edc0] invalid start code [0][5][22][7] in RIFF header\r\n",
      "[in#0 @ 00000216de352ac0] Error opening input: Invalid data found when processing input\r\n",
      "Error opening input file C:\\Users\\biagi\\PycharmProjects\\gruppo17\\Dataset\\Target\\Acoustic Harassment Devices\\._AHD_Airmar.wav.\r\n",
      "Error opening input files: Invalid data found when processing input\r\n",
      "\n",
      "File letto: 1\n",
      "Errore durante la decodifica del file C:\\Users\\biagi\\PycharmProjects\\gruppo17\\Dataset\\Target\\Acoustic release\\._SanctSound_CI04_04_acousticrelease_20200202T071340Z.wav: Decoding failed. ffmpeg returned error code: 3199971767\n",
      "\n",
      "Output from ffmpeg/avlib:\n",
      "\n",
      "ffmpeg version 2024-04-15-git-5e380bcdb1-essentials_build-www.gyan.dev Copyright (c) 2000-2024 the FFmpeg developers\r\n",
      "  built with gcc 13.2.0 (Rev5, Built by MSYS2 project)\r\n",
      "  configuration: --enable-gpl --enable-version3 --enable-static --disable-w32threads --disable-autodetect --enable-fontconfig --enable-iconv --enable-gnutls --enable-libxml2 --enable-gmp --enable-bzlib --enable-lzma --enable-zlib --enable-libsrt --enable-libssh --enable-libzmq --enable-avisynth --enable-sdl2 --enable-libwebp --enable-libx264 --enable-libx265 --enable-libxvid --enable-libaom --enable-libopenjpeg --enable-libvpx --enable-mediafoundation --enable-libass --enable-libfreetype --enable-libfribidi --enable-libharfbuzz --enable-libvidstab --enable-libvmaf --enable-libzimg --enable-amf --enable-cuda-llvm --enable-cuvid --enable-dxva2 --enable-d3d11va --enable-d3d12va --enable-ffnvcodec --enable-libvpl --enable-nvdec --enable-nvenc --enable-vaapi --enable-libgme --enable-libopenmpt --enable-libopencore-amrwb --enable-libmp3lame --enable-libtheora --enable-libvo-amrwbenc --enable-libgsm --enable-libopencore-amrnb --enable-libopus --enable-libspeex --enable-libvorbis --enable-librubberband\r\n",
      "  libavutil      59. 15.100 / 59. 15.100\r\n",
      "  libavcodec     61.  5.103 / 61.  5.103\r\n",
      "  libavformat    61.  3.100 / 61.  3.100\r\n",
      "  libavdevice    61.  2.100 / 61.  2.100\r\n",
      "  libavfilter    10.  2.101 / 10.  2.101\r\n",
      "  libswscale      8.  2.100 /  8.  2.100\r\n",
      "  libswresample   5.  2.100 /  5.  2.100\r\n",
      "  libpostproc    58.  2.100 / 58.  2.100\r\n",
      "[wav @ 0000025d4f05edc0] invalid start code [0][5][22][7] in RIFF header\r\n",
      "[in#0 @ 0000025d4f062b00] Error opening input: Invalid data found when processing input\r\n",
      "Error opening input file C:\\Users\\biagi\\PycharmProjects\\gruppo17\\Dataset\\Target\\Acoustic release\\._SanctSound_CI04_04_acousticrelease_20200202T071340Z.wav.\r\n",
      "Error opening input files: Invalid data found when processing input\r\n",
      "\n",
      "File letto: 2\n",
      "File letto: 3\n",
      "File letto: 4\n",
      "File letto: 5\n",
      "File letto: 6\n",
      "File letto: 7\n"
     ]
    },
    {
     "ename": "KeyboardInterrupt",
     "evalue": "",
     "output_type": "error",
     "traceback": [
      "\u001B[1;31m---------------------------------------------------------------------------\u001B[0m",
      "\u001B[1;31mKeyboardInterrupt\u001B[0m                         Traceback (most recent call last)",
      "Cell \u001B[1;32mIn[12], line 7\u001B[0m\n\u001B[0;32m      4\u001B[0m \u001B[38;5;28;01mfrom\u001B[39;00m \u001B[38;5;21;01mSet_Data\u001B[39;00m\u001B[38;5;21;01m.\u001B[39;00m\u001B[38;5;21;01mLettura_Freq\u001B[39;00m \u001B[38;5;28;01mimport\u001B[39;00m frequenze\n\u001B[0;32m      6\u001B[0m \u001B[38;5;66;03m# Ottieni il dizionario di frequenze e numero di audio associato\u001B[39;00m\n\u001B[1;32m----> 7\u001B[0m frequencies \u001B[38;5;241m=\u001B[39m frequenze()\n\u001B[0;32m      9\u001B[0m \u001B[38;5;66;03m# Estrai le chiavi (frequenze) e i valori (numero di audio) dal dizionario\u001B[39;00m\n\u001B[0;32m     10\u001B[0m frequency_values \u001B[38;5;241m=\u001B[39m \u001B[38;5;28mlist\u001B[39m(frequencies\u001B[38;5;241m.\u001B[39mkeys())\n",
      "File \u001B[1;32m~\\PycharmProjects\\gruppo17\\Set_Data\\Lettura_Freq.py:50\u001B[0m, in \u001B[0;36mfrequenze\u001B[1;34m()\u001B[0m\n\u001B[0;32m     48\u001B[0m \u001B[38;5;28;01mif\u001B[39;00m file_name \u001B[38;5;129;01mnot\u001B[39;00m \u001B[38;5;129;01min\u001B[39;00m exclude_files:  \u001B[38;5;66;03m# Verifica se il file deve essere escluso\u001B[39;00m\n\u001B[0;32m     49\u001B[0m     file_path \u001B[38;5;241m=\u001B[39m os\u001B[38;5;241m.\u001B[39mpath\u001B[38;5;241m.\u001B[39mjoin(root, file_name)\n\u001B[1;32m---> 50\u001B[0m     frequency \u001B[38;5;241m=\u001B[39m get_audio_frequency(file_path)\n\u001B[0;32m     51\u001B[0m     \u001B[38;5;28;01mif\u001B[39;00m frequency \u001B[38;5;241m!=\u001B[39m \u001B[38;5;241m0\u001B[39m:\n\u001B[0;32m     52\u001B[0m         \u001B[38;5;66;03m# Incrementa il contatore per la frequenza corrente nel dizionario\u001B[39;00m\n\u001B[0;32m     53\u001B[0m         frequency_counter[frequency] \u001B[38;5;241m=\u001B[39m frequency_counter\u001B[38;5;241m.\u001B[39mget(frequency, \u001B[38;5;241m0\u001B[39m) \u001B[38;5;241m+\u001B[39m \u001B[38;5;241m1\u001B[39m\n",
      "File \u001B[1;32m~\\PycharmProjects\\gruppo17\\Set_Data\\Lettura_Freq.py:12\u001B[0m, in \u001B[0;36mget_audio_frequency\u001B[1;34m(file_path)\u001B[0m\n\u001B[0;32m      9\u001B[0m _, file_extension \u001B[38;5;241m=\u001B[39m os\u001B[38;5;241m.\u001B[39mpath\u001B[38;5;241m.\u001B[39msplitext(file_path)\n\u001B[0;32m     11\u001B[0m \u001B[38;5;28;01mif\u001B[39;00m file_extension\u001B[38;5;241m.\u001B[39mlower() \u001B[38;5;241m==\u001B[39m \u001B[38;5;124m'\u001B[39m\u001B[38;5;124m.wav\u001B[39m\u001B[38;5;124m'\u001B[39m:\n\u001B[1;32m---> 12\u001B[0m     audio \u001B[38;5;241m=\u001B[39m AudioSegment\u001B[38;5;241m.\u001B[39mfrom_wav(file_path)\n\u001B[0;32m     13\u001B[0m \u001B[38;5;28;01melif\u001B[39;00m file_extension\u001B[38;5;241m.\u001B[39mlower() \u001B[38;5;241m==\u001B[39m \u001B[38;5;124m'\u001B[39m\u001B[38;5;124m.mp3\u001B[39m\u001B[38;5;124m'\u001B[39m:\n\u001B[0;32m     14\u001B[0m     \u001B[38;5;66;03m# Converti il file MP3 in formato WAV\u001B[39;00m\n\u001B[0;32m     15\u001B[0m     audio \u001B[38;5;241m=\u001B[39m AudioSegment\u001B[38;5;241m.\u001B[39mfrom_mp3(file_path)\n",
      "File \u001B[1;32m~\\anaconda3\\envs\\Biometria\\Lib\\site-packages\\pydub\\audio_segment.py:808\u001B[0m, in \u001B[0;36mAudioSegment.from_wav\u001B[1;34m(cls, file, parameters)\u001B[0m\n\u001B[0;32m    806\u001B[0m \u001B[38;5;129m@classmethod\u001B[39m\n\u001B[0;32m    807\u001B[0m \u001B[38;5;28;01mdef\u001B[39;00m \u001B[38;5;21mfrom_wav\u001B[39m(\u001B[38;5;28mcls\u001B[39m, file, parameters\u001B[38;5;241m=\u001B[39m\u001B[38;5;28;01mNone\u001B[39;00m):\n\u001B[1;32m--> 808\u001B[0m     \u001B[38;5;28;01mreturn\u001B[39;00m \u001B[38;5;28mcls\u001B[39m\u001B[38;5;241m.\u001B[39mfrom_file(file, \u001B[38;5;124m'\u001B[39m\u001B[38;5;124mwav\u001B[39m\u001B[38;5;124m'\u001B[39m, parameters\u001B[38;5;241m=\u001B[39mparameters)\n",
      "File \u001B[1;32m~\\anaconda3\\envs\\Biometria\\Lib\\site-packages\\pydub\\audio_segment.py:768\u001B[0m, in \u001B[0;36mAudioSegment.from_file\u001B[1;34m(cls, file, format, codec, parameters, start_second, duration, **kwargs)\u001B[0m\n\u001B[0;32m    764\u001B[0m log_conversion(conversion_command)\n\u001B[0;32m    766\u001B[0m p \u001B[38;5;241m=\u001B[39m subprocess\u001B[38;5;241m.\u001B[39mPopen(conversion_command, stdin\u001B[38;5;241m=\u001B[39mstdin_parameter,\n\u001B[0;32m    767\u001B[0m                      stdout\u001B[38;5;241m=\u001B[39msubprocess\u001B[38;5;241m.\u001B[39mPIPE, stderr\u001B[38;5;241m=\u001B[39msubprocess\u001B[38;5;241m.\u001B[39mPIPE)\n\u001B[1;32m--> 768\u001B[0m p_out, p_err \u001B[38;5;241m=\u001B[39m p\u001B[38;5;241m.\u001B[39mcommunicate(\u001B[38;5;28minput\u001B[39m\u001B[38;5;241m=\u001B[39mstdin_data)\n\u001B[0;32m    770\u001B[0m \u001B[38;5;28;01mif\u001B[39;00m p\u001B[38;5;241m.\u001B[39mreturncode \u001B[38;5;241m!=\u001B[39m \u001B[38;5;241m0\u001B[39m \u001B[38;5;129;01mor\u001B[39;00m \u001B[38;5;28mlen\u001B[39m(p_out) \u001B[38;5;241m==\u001B[39m \u001B[38;5;241m0\u001B[39m:\n\u001B[0;32m    771\u001B[0m     \u001B[38;5;28;01mif\u001B[39;00m close_file:\n",
      "File \u001B[1;32m~\\anaconda3\\envs\\Biometria\\Lib\\subprocess.py:1209\u001B[0m, in \u001B[0;36mPopen.communicate\u001B[1;34m(self, input, timeout)\u001B[0m\n\u001B[0;32m   1206\u001B[0m     endtime \u001B[38;5;241m=\u001B[39m \u001B[38;5;28;01mNone\u001B[39;00m\n\u001B[0;32m   1208\u001B[0m \u001B[38;5;28;01mtry\u001B[39;00m:\n\u001B[1;32m-> 1209\u001B[0m     stdout, stderr \u001B[38;5;241m=\u001B[39m \u001B[38;5;28mself\u001B[39m\u001B[38;5;241m.\u001B[39m_communicate(\u001B[38;5;28minput\u001B[39m, endtime, timeout)\n\u001B[0;32m   1210\u001B[0m \u001B[38;5;28;01mexcept\u001B[39;00m \u001B[38;5;167;01mKeyboardInterrupt\u001B[39;00m:\n\u001B[0;32m   1211\u001B[0m     \u001B[38;5;66;03m# https://bugs.python.org/issue25942\u001B[39;00m\n\u001B[0;32m   1212\u001B[0m     \u001B[38;5;66;03m# See the detailed comment in .wait().\u001B[39;00m\n\u001B[0;32m   1213\u001B[0m     \u001B[38;5;28;01mif\u001B[39;00m timeout \u001B[38;5;129;01mis\u001B[39;00m \u001B[38;5;129;01mnot\u001B[39;00m \u001B[38;5;28;01mNone\u001B[39;00m:\n",
      "File \u001B[1;32m~\\anaconda3\\envs\\Biometria\\Lib\\subprocess.py:1626\u001B[0m, in \u001B[0;36mPopen._communicate\u001B[1;34m(self, input, endtime, orig_timeout)\u001B[0m\n\u001B[0;32m   1622\u001B[0m \u001B[38;5;66;03m# Wait for the reader threads, or time out.  If we time out, the\u001B[39;00m\n\u001B[0;32m   1623\u001B[0m \u001B[38;5;66;03m# threads remain reading and the fds left open in case the user\u001B[39;00m\n\u001B[0;32m   1624\u001B[0m \u001B[38;5;66;03m# calls communicate again.\u001B[39;00m\n\u001B[0;32m   1625\u001B[0m \u001B[38;5;28;01mif\u001B[39;00m \u001B[38;5;28mself\u001B[39m\u001B[38;5;241m.\u001B[39mstdout \u001B[38;5;129;01mis\u001B[39;00m \u001B[38;5;129;01mnot\u001B[39;00m \u001B[38;5;28;01mNone\u001B[39;00m:\n\u001B[1;32m-> 1626\u001B[0m     \u001B[38;5;28mself\u001B[39m\u001B[38;5;241m.\u001B[39mstdout_thread\u001B[38;5;241m.\u001B[39mjoin(\u001B[38;5;28mself\u001B[39m\u001B[38;5;241m.\u001B[39m_remaining_time(endtime))\n\u001B[0;32m   1627\u001B[0m     \u001B[38;5;28;01mif\u001B[39;00m \u001B[38;5;28mself\u001B[39m\u001B[38;5;241m.\u001B[39mstdout_thread\u001B[38;5;241m.\u001B[39mis_alive():\n\u001B[0;32m   1628\u001B[0m         \u001B[38;5;28;01mraise\u001B[39;00m TimeoutExpired(\u001B[38;5;28mself\u001B[39m\u001B[38;5;241m.\u001B[39margs, orig_timeout)\n",
      "File \u001B[1;32m~\\anaconda3\\envs\\Biometria\\Lib\\threading.py:1119\u001B[0m, in \u001B[0;36mThread.join\u001B[1;34m(self, timeout)\u001B[0m\n\u001B[0;32m   1116\u001B[0m     \u001B[38;5;28;01mraise\u001B[39;00m \u001B[38;5;167;01mRuntimeError\u001B[39;00m(\u001B[38;5;124m\"\u001B[39m\u001B[38;5;124mcannot join current thread\u001B[39m\u001B[38;5;124m\"\u001B[39m)\n\u001B[0;32m   1118\u001B[0m \u001B[38;5;28;01mif\u001B[39;00m timeout \u001B[38;5;129;01mis\u001B[39;00m \u001B[38;5;28;01mNone\u001B[39;00m:\n\u001B[1;32m-> 1119\u001B[0m     \u001B[38;5;28mself\u001B[39m\u001B[38;5;241m.\u001B[39m_wait_for_tstate_lock()\n\u001B[0;32m   1120\u001B[0m \u001B[38;5;28;01melse\u001B[39;00m:\n\u001B[0;32m   1121\u001B[0m     \u001B[38;5;66;03m# the behavior of a negative timeout isn't documented, but\u001B[39;00m\n\u001B[0;32m   1122\u001B[0m     \u001B[38;5;66;03m# historically .join(timeout=x) for x<0 has acted as if timeout=0\u001B[39;00m\n\u001B[0;32m   1123\u001B[0m     \u001B[38;5;28mself\u001B[39m\u001B[38;5;241m.\u001B[39m_wait_for_tstate_lock(timeout\u001B[38;5;241m=\u001B[39m\u001B[38;5;28mmax\u001B[39m(timeout, \u001B[38;5;241m0\u001B[39m))\n",
      "File \u001B[1;32m~\\anaconda3\\envs\\Biometria\\Lib\\threading.py:1139\u001B[0m, in \u001B[0;36mThread._wait_for_tstate_lock\u001B[1;34m(self, block, timeout)\u001B[0m\n\u001B[0;32m   1136\u001B[0m     \u001B[38;5;28;01mreturn\u001B[39;00m\n\u001B[0;32m   1138\u001B[0m \u001B[38;5;28;01mtry\u001B[39;00m:\n\u001B[1;32m-> 1139\u001B[0m     \u001B[38;5;28;01mif\u001B[39;00m lock\u001B[38;5;241m.\u001B[39macquire(block, timeout):\n\u001B[0;32m   1140\u001B[0m         lock\u001B[38;5;241m.\u001B[39mrelease()\n\u001B[0;32m   1141\u001B[0m         \u001B[38;5;28mself\u001B[39m\u001B[38;5;241m.\u001B[39m_stop()\n",
      "\u001B[1;31mKeyboardInterrupt\u001B[0m: "
     ]
    }
   ],
   "source": [
    "import matplotlib.pyplot as plt\n",
    "\n",
    "# Importa la funzione frequenze dal modulo Lettura_Freq in Set_Data\n",
    "from Set_Data.Lettura_Freq import frequenze\n",
    "\n",
    "# Ottieni il dizionario di frequenze e numero di audio associato\n",
    "frequencies = frequenze()\n",
    "\n",
    "# Estrai le chiavi (frequenze) e i valori (numero di audio) dal dizionario\n",
    "frequency_values = list(frequencies.keys())\n",
    "audio_numbers = list(frequencies.values())\n",
    "\n",
    "# Crea l'istogramma utilizzando i dati estratti dal dizionario\n",
    "plt.hist(frequency_values, bins=7, weights=audio_numbers, color='blue', edgecolor='black')\n",
    "\n",
    "plt.xlabel('Frequenza del segnale audio')\n",
    "plt.ylabel('Numero di audio')\n",
    "plt.title('Istogramma delle Frequenze')\n",
    "\n",
    "plt.show()  # Mostra il grafico\n",
    "\n",
    "\n"
   ],
   "metadata": {
    "collapsed": false,
    "ExecuteTime": {
     "end_time": "2024-05-09T10:23:02.568758Z",
     "start_time": "2024-05-09T10:22:50.989044Z"
    }
   }
  },
  {
   "cell_type": "markdown",
   "source": [],
   "metadata": {
    "collapsed": false
   }
  }
 ],
 "metadata": {
  "kernelspec": {
   "display_name": "Python 3",
   "language": "python",
   "name": "python3"
  },
  "language_info": {
   "codemirror_mode": {
    "name": "ipython",
    "version": 2
   },
   "file_extension": ".py",
   "mimetype": "text/x-python",
   "name": "python",
   "nbconvert_exporter": "python",
   "pygments_lexer": "ipython2",
   "version": "2.7.6"
  }
 },
 "nbformat": 4,
 "nbformat_minor": 0
}
