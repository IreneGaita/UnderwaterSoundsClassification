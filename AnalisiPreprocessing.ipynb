{
 "cells": [
  {
   "cell_type": "markdown",
   "source": [
    "# Setup"
   ],
   "metadata": {
    "collapsed": false
   }
  },
  {
   "cell_type": "code",
   "execution_count": 3,
   "outputs": [],
   "source": [
    "import matplotlib.pyplot as plt\n",
    "from Set_Data.Lettura_Freq import frequenze"
   ],
   "metadata": {
    "collapsed": false
   }
  },
  {
   "cell_type": "code",
   "execution_count": null,
   "outputs": [],
   "source": "%matplotlib inline",
   "metadata": {
    "collapsed": false
   }
  },
  {
   "cell_type": "markdown",
   "source": "Istogramma Frequenze Assolute",
   "metadata": {
    "collapsed": false
   }
  },
  {
   "cell_type": "code",
   "source": [
    "\n",
    "# Importa la funzione frequenze dal modulo Lettura_Freq in Set_Data\n",
    "\n",
    "\n",
    "# Ottieni il dizionario di frequenze e numero di audio associato\n",
    "frequencies = frequenze()\n",
    "\n",
    "# Estrai le chiavi (frequenze) e i valori (numero di audio) dal dizionario\n",
    "frequency_values = list(frequencies.keys())\n",
    "audio_numbers = list(frequencies.values())\n",
    "\n",
    "# Crea l'istogramma utilizzando i dati estratti dal dizionario\n",
    "plt.hist(frequency_values, bins=7, weights=audio_numbers, color='blue', edgecolor='black')\n",
    "\n",
    "plt.xlabel('Frequenza del segnale audio')\n",
    "plt.ylabel('Numero di audio')\n",
    "plt.title('Istogramma delle Frequenze')\n",
    "\n",
    "plt.show()  # Mostra il grafico\n",
    "\n",
    "\n"
   ],
   "metadata": {
    "collapsed": false,
    "ExecuteTime": {
     "end_time": "2024-05-09T10:35:49.778553Z",
     "start_time": "2024-05-09T10:35:39.774926Z"
    }
   },
   "outputs": [
    {
     "name": "stdout",
     "output_type": "stream",
     "text": [
      "File letto: 1\n",
      "File letto: 2\n",
      "File letto: 3\n",
      "File letto: 4\n",
      "File letto: 5\n",
      "File letto: 6\n",
      "File letto: 7\n"
     ]
    },
    {
     "ename": "KeyboardInterrupt",
     "evalue": "",
     "output_type": "error",
     "traceback": [
      "\u001B[0;31m---------------------------------------------------------------------------\u001B[0m",
      "\u001B[0;31mKeyboardInterrupt\u001B[0m                         Traceback (most recent call last)",
      "Cell \u001B[0;32mIn[26], line 5\u001B[0m\n\u001B[1;32m      1\u001B[0m \u001B[38;5;66;03m# Importa la funzione frequenze dal modulo Lettura_Freq in Set_Data\u001B[39;00m\n\u001B[1;32m      2\u001B[0m \n\u001B[1;32m      3\u001B[0m \n\u001B[1;32m      4\u001B[0m \u001B[38;5;66;03m# Ottieni il dizionario di frequenze e numero di audio associato\u001B[39;00m\n\u001B[0;32m----> 5\u001B[0m frequencies \u001B[38;5;241m=\u001B[39m frequenze()\n\u001B[1;32m      7\u001B[0m \u001B[38;5;66;03m# Estrai le chiavi (frequenze) e i valori (numero di audio) dal dizionario\u001B[39;00m\n\u001B[1;32m      8\u001B[0m frequency_values \u001B[38;5;241m=\u001B[39m \u001B[38;5;28mlist\u001B[39m(frequencies\u001B[38;5;241m.\u001B[39mkeys())\n",
      "File \u001B[0;32m~/PycharmProjects/UnderwaterSoundsClassification/Set_Data/Lettura_Freq.py:50\u001B[0m, in \u001B[0;36mfrequenze\u001B[0;34m()\u001B[0m\n\u001B[1;32m     48\u001B[0m \u001B[38;5;28;01mif\u001B[39;00m file_name \u001B[38;5;129;01mnot\u001B[39;00m \u001B[38;5;129;01min\u001B[39;00m exclude_files:  \u001B[38;5;66;03m# Verifica se il file deve essere escluso\u001B[39;00m\n\u001B[1;32m     49\u001B[0m     file_path \u001B[38;5;241m=\u001B[39m os\u001B[38;5;241m.\u001B[39mpath\u001B[38;5;241m.\u001B[39mjoin(root, file_name)\n\u001B[0;32m---> 50\u001B[0m     frequency \u001B[38;5;241m=\u001B[39m get_audio_frequency(file_path)\n\u001B[1;32m     51\u001B[0m     \u001B[38;5;28;01mif\u001B[39;00m frequency \u001B[38;5;241m!=\u001B[39m \u001B[38;5;241m0\u001B[39m:\n\u001B[1;32m     52\u001B[0m         \u001B[38;5;66;03m# Incrementa il contatore per la frequenza corrente nel dizionario\u001B[39;00m\n\u001B[1;32m     53\u001B[0m         frequency_counter[frequency] \u001B[38;5;241m=\u001B[39m frequency_counter\u001B[38;5;241m.\u001B[39mget(frequency, \u001B[38;5;241m0\u001B[39m) \u001B[38;5;241m+\u001B[39m \u001B[38;5;241m1\u001B[39m\n",
      "File \u001B[0;32m~/PycharmProjects/UnderwaterSoundsClassification/Set_Data/Lettura_Freq.py:12\u001B[0m, in \u001B[0;36mget_audio_frequency\u001B[0;34m(file_path)\u001B[0m\n\u001B[1;32m      9\u001B[0m _, file_extension \u001B[38;5;241m=\u001B[39m os\u001B[38;5;241m.\u001B[39mpath\u001B[38;5;241m.\u001B[39msplitext(file_path)\n\u001B[1;32m     11\u001B[0m \u001B[38;5;28;01mif\u001B[39;00m file_extension\u001B[38;5;241m.\u001B[39mlower() \u001B[38;5;241m==\u001B[39m \u001B[38;5;124m'\u001B[39m\u001B[38;5;124m.wav\u001B[39m\u001B[38;5;124m'\u001B[39m:\n\u001B[0;32m---> 12\u001B[0m     audio \u001B[38;5;241m=\u001B[39m AudioSegment\u001B[38;5;241m.\u001B[39mfrom_wav(file_path)\n\u001B[1;32m     13\u001B[0m \u001B[38;5;28;01melif\u001B[39;00m file_extension\u001B[38;5;241m.\u001B[39mlower() \u001B[38;5;241m==\u001B[39m \u001B[38;5;124m'\u001B[39m\u001B[38;5;124m.mp3\u001B[39m\u001B[38;5;124m'\u001B[39m:\n\u001B[1;32m     14\u001B[0m     \u001B[38;5;66;03m# Converti il file MP3 in formato WAV\u001B[39;00m\n\u001B[1;32m     15\u001B[0m     audio \u001B[38;5;241m=\u001B[39m AudioSegment\u001B[38;5;241m.\u001B[39mfrom_mp3(file_path)\n",
      "File \u001B[0;32m/opt/anaconda3/envs/UnderwaterSounds/lib/python3.11/site-packages/pydub/audio_segment.py:808\u001B[0m, in \u001B[0;36mAudioSegment.from_wav\u001B[0;34m(cls, file, parameters)\u001B[0m\n\u001B[1;32m    806\u001B[0m \u001B[38;5;129m@classmethod\u001B[39m\n\u001B[1;32m    807\u001B[0m \u001B[38;5;28;01mdef\u001B[39;00m \u001B[38;5;21mfrom_wav\u001B[39m(\u001B[38;5;28mcls\u001B[39m, file, parameters\u001B[38;5;241m=\u001B[39m\u001B[38;5;28;01mNone\u001B[39;00m):\n\u001B[0;32m--> 808\u001B[0m     \u001B[38;5;28;01mreturn\u001B[39;00m \u001B[38;5;28mcls\u001B[39m\u001B[38;5;241m.\u001B[39mfrom_file(file, \u001B[38;5;124m'\u001B[39m\u001B[38;5;124mwav\u001B[39m\u001B[38;5;124m'\u001B[39m, parameters\u001B[38;5;241m=\u001B[39mparameters)\n",
      "File \u001B[0;32m/opt/anaconda3/envs/UnderwaterSounds/lib/python3.11/site-packages/pydub/audio_segment.py:768\u001B[0m, in \u001B[0;36mAudioSegment.from_file\u001B[0;34m(cls, file, format, codec, parameters, start_second, duration, **kwargs)\u001B[0m\n\u001B[1;32m    764\u001B[0m log_conversion(conversion_command)\n\u001B[1;32m    766\u001B[0m p \u001B[38;5;241m=\u001B[39m subprocess\u001B[38;5;241m.\u001B[39mPopen(conversion_command, stdin\u001B[38;5;241m=\u001B[39mstdin_parameter,\n\u001B[1;32m    767\u001B[0m                      stdout\u001B[38;5;241m=\u001B[39msubprocess\u001B[38;5;241m.\u001B[39mPIPE, stderr\u001B[38;5;241m=\u001B[39msubprocess\u001B[38;5;241m.\u001B[39mPIPE)\n\u001B[0;32m--> 768\u001B[0m p_out, p_err \u001B[38;5;241m=\u001B[39m p\u001B[38;5;241m.\u001B[39mcommunicate(\u001B[38;5;28minput\u001B[39m\u001B[38;5;241m=\u001B[39mstdin_data)\n\u001B[1;32m    770\u001B[0m \u001B[38;5;28;01mif\u001B[39;00m p\u001B[38;5;241m.\u001B[39mreturncode \u001B[38;5;241m!=\u001B[39m \u001B[38;5;241m0\u001B[39m \u001B[38;5;129;01mor\u001B[39;00m \u001B[38;5;28mlen\u001B[39m(p_out) \u001B[38;5;241m==\u001B[39m \u001B[38;5;241m0\u001B[39m:\n\u001B[1;32m    771\u001B[0m     \u001B[38;5;28;01mif\u001B[39;00m close_file:\n",
      "File \u001B[0;32m/opt/anaconda3/envs/UnderwaterSounds/lib/python3.11/subprocess.py:1209\u001B[0m, in \u001B[0;36mPopen.communicate\u001B[0;34m(self, input, timeout)\u001B[0m\n\u001B[1;32m   1206\u001B[0m     endtime \u001B[38;5;241m=\u001B[39m \u001B[38;5;28;01mNone\u001B[39;00m\n\u001B[1;32m   1208\u001B[0m \u001B[38;5;28;01mtry\u001B[39;00m:\n\u001B[0;32m-> 1209\u001B[0m     stdout, stderr \u001B[38;5;241m=\u001B[39m \u001B[38;5;28mself\u001B[39m\u001B[38;5;241m.\u001B[39m_communicate(\u001B[38;5;28minput\u001B[39m, endtime, timeout)\n\u001B[1;32m   1210\u001B[0m \u001B[38;5;28;01mexcept\u001B[39;00m \u001B[38;5;167;01mKeyboardInterrupt\u001B[39;00m:\n\u001B[1;32m   1211\u001B[0m     \u001B[38;5;66;03m# https://bugs.python.org/issue25942\u001B[39;00m\n\u001B[1;32m   1212\u001B[0m     \u001B[38;5;66;03m# See the detailed comment in .wait().\u001B[39;00m\n\u001B[1;32m   1213\u001B[0m     \u001B[38;5;28;01mif\u001B[39;00m timeout \u001B[38;5;129;01mis\u001B[39;00m \u001B[38;5;129;01mnot\u001B[39;00m \u001B[38;5;28;01mNone\u001B[39;00m:\n",
      "File \u001B[0;32m/opt/anaconda3/envs/UnderwaterSounds/lib/python3.11/subprocess.py:2115\u001B[0m, in \u001B[0;36mPopen._communicate\u001B[0;34m(self, input, endtime, orig_timeout)\u001B[0m\n\u001B[1;32m   2108\u001B[0m     \u001B[38;5;28mself\u001B[39m\u001B[38;5;241m.\u001B[39m_check_timeout(endtime, orig_timeout,\n\u001B[1;32m   2109\u001B[0m                         stdout, stderr,\n\u001B[1;32m   2110\u001B[0m                         skip_check_and_raise\u001B[38;5;241m=\u001B[39m\u001B[38;5;28;01mTrue\u001B[39;00m)\n\u001B[1;32m   2111\u001B[0m     \u001B[38;5;28;01mraise\u001B[39;00m \u001B[38;5;167;01mRuntimeError\u001B[39;00m(  \u001B[38;5;66;03m# Impossible :)\u001B[39;00m\n\u001B[1;32m   2112\u001B[0m         \u001B[38;5;124m'\u001B[39m\u001B[38;5;124m_check_timeout(..., skip_check_and_raise=True) \u001B[39m\u001B[38;5;124m'\u001B[39m\n\u001B[1;32m   2113\u001B[0m         \u001B[38;5;124m'\u001B[39m\u001B[38;5;124mfailed to raise TimeoutExpired.\u001B[39m\u001B[38;5;124m'\u001B[39m)\n\u001B[0;32m-> 2115\u001B[0m ready \u001B[38;5;241m=\u001B[39m selector\u001B[38;5;241m.\u001B[39mselect(timeout)\n\u001B[1;32m   2116\u001B[0m \u001B[38;5;28mself\u001B[39m\u001B[38;5;241m.\u001B[39m_check_timeout(endtime, orig_timeout, stdout, stderr)\n\u001B[1;32m   2118\u001B[0m \u001B[38;5;66;03m# XXX Rewrite these to use non-blocking I/O on the file\u001B[39;00m\n\u001B[1;32m   2119\u001B[0m \u001B[38;5;66;03m# objects; they are no longer using C stdio!\u001B[39;00m\n",
      "File \u001B[0;32m/opt/anaconda3/envs/UnderwaterSounds/lib/python3.11/selectors.py:415\u001B[0m, in \u001B[0;36m_PollLikeSelector.select\u001B[0;34m(self, timeout)\u001B[0m\n\u001B[1;32m    413\u001B[0m ready \u001B[38;5;241m=\u001B[39m []\n\u001B[1;32m    414\u001B[0m \u001B[38;5;28;01mtry\u001B[39;00m:\n\u001B[0;32m--> 415\u001B[0m     fd_event_list \u001B[38;5;241m=\u001B[39m \u001B[38;5;28mself\u001B[39m\u001B[38;5;241m.\u001B[39m_selector\u001B[38;5;241m.\u001B[39mpoll(timeout)\n\u001B[1;32m    416\u001B[0m \u001B[38;5;28;01mexcept\u001B[39;00m \u001B[38;5;167;01mInterruptedError\u001B[39;00m:\n\u001B[1;32m    417\u001B[0m     \u001B[38;5;28;01mreturn\u001B[39;00m ready\n",
      "\u001B[0;31mKeyboardInterrupt\u001B[0m: "
     ]
    }
   ],
   "execution_count": 26
  },
  {
   "cell_type": "markdown",
   "source": [],
   "metadata": {
    "collapsed": false
   }
  }
 ],
 "metadata": {
  "kernelspec": {
   "display_name": "Python 3",
   "language": "python",
   "name": "python3"
  },
  "language_info": {
   "codemirror_mode": {
    "name": "ipython",
    "version": 2
   },
   "file_extension": ".py",
   "mimetype": "text/x-python",
   "name": "python",
   "nbconvert_exporter": "python",
   "pygments_lexer": "ipython2",
   "version": "2.7.6"
  }
 },
 "nbformat": 4,
 "nbformat_minor": 0
}
