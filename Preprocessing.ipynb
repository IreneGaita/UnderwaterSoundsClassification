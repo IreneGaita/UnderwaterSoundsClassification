{
 "cells": [
  {
   "cell_type": "markdown",
   "source": [
    "# Importazione e configurazione del logging"
   ],
   "metadata": {
    "collapsed": false
   }
  },
  {
   "cell_type": "code",
   "execution_count": 43,
   "outputs": [],
   "source": [
    "import os\n",
    "import librosa\n",
    "import soundfile as sf\n",
    "import numpy as np\n",
    "import sys\n",
    "import logging\n",
    "from concurrent.futures import ThreadPoolExecutor, as_completed\n",
    "import multiprocessing\n",
    "from threading import Lock\n",
    "\n",
    "# Configura il logging per monitorare lo stato\n",
    "logging.basicConfig(level=logging.INFO, format='%(asctime)s - %(levelname)s - %(message)s')"
   ],
   "metadata": {
    "collapsed": false
   }
  },
  {
   "cell_type": "markdown",
   "source": [
    "# Definizione dei file da escludere"
   ],
   "metadata": {
    "collapsed": false
   }
  },
  {
   "cell_type": "code",
   "execution_count": 44,
   "outputs": [],
   "source": [
    "# Definisci i file da escludere\n",
    "exclude_files = {'.DS_Store', 'metadata-Target.csv', 'metadata-NonTarget.csv'}"
   ],
   "metadata": {
    "collapsed": false
   }
  },
  {
   "cell_type": "markdown",
   "source": [
    "# Funzione per caricare e convertire file MP3"
   ],
   "metadata": {
    "collapsed": false
   }
  },
  {
   "cell_type": "code",
   "execution_count": 45,
   "outputs": [],
   "source": [
    "def load_and_convert_mp3(file_path, target_sample_rate):\n",
    "    y, sr = librosa.load(file_path, sr=target_sample_rate, mono=True)\n",
    "    wav_file_path = file_path.replace(\".mp3\", \".wav\")\n",
    "    sf.write(wav_file_path, y, sr, subtype='PCM_16')\n",
    "    os.remove(file_path)\n",
    "    return True"
   ],
   "metadata": {
    "collapsed": false
   }
  },
  {
   "cell_type": "markdown",
   "source": [
    "# Funzione per caricare file .wav e standardizzare la profondità del bit"
   ],
   "metadata": {
    "collapsed": false
   }
  },
  {
   "cell_type": "code",
   "execution_count": 46,
   "outputs": [],
   "source": [
    "def load_and_standardize(file_path, target_sample_rate):\n",
    "    y, sr = librosa.load(file_path, sr=target_sample_rate, mono=True)\n",
    "    sf.write(file_path, y, sr, subtype='PCM_16')\n",
    "    return True"
   ],
   "metadata": {
    "collapsed": false
   }
  },
  {
   "cell_type": "markdown",
   "source": [
    "# Campionamento dei file"
   ],
   "metadata": {
    "collapsed": false
   }
  },
  {
   "cell_type": "code",
   "execution_count": 47,
   "outputs": [],
   "source": [
    "def process_file(file_path):\n",
    "    target_sample_rate = 86400\n",
    "    try:\n",
    "        if file_path.endswith(\".mp3\"):\n",
    "            return load_and_convert_mp3(file_path, target_sample_rate)\n",
    "        else:\n",
    "            return load_and_standardize(file_path, target_sample_rate)\n",
    "    except Exception as e:\n",
    "        logging.error(f\"Error processing file {file_path}: {e}\")\n",
    "    return False"
   ],
   "metadata": {
    "collapsed": false
   }
  },
  {
   "cell_type": "markdown",
   "source": [
    "# Definizione della funzione che conta i file nel dataset"
   ],
   "metadata": {
    "collapsed": false
   }
  },
  {
   "cell_type": "code",
   "execution_count": 48,
   "outputs": [],
   "source": [
    "def count_files(directory, exclude_files):\n",
    "    return sum(1 for root, _, files in os.walk(directory) for file in files if file not in exclude_files)"
   ],
   "metadata": {
    "collapsed": false
   }
  },
  {
   "cell_type": "markdown",
   "source": [
    "# Caricamento ed elaborazione parallela dei file audio"
   ],
   "metadata": {
    "collapsed": false
   }
  },
  {
   "cell_type": "code",
   "execution_count": 49,
   "outputs": [],
   "source": [
    "def lettura_audio(directories):\n",
    "    total_files = sum(count_files(directory, exclude_files) for directory in directories)\n",
    "    file_count = 0\n",
    "\n",
    "    # Determina il numero di core disponibili e imposta il numero di thread\n",
    "    num_cores = multiprocessing.cpu_count()\n",
    "    num_threads = max(1, num_cores // 2)  # Utilizza la metà dei core disponibili\n",
    "    logging.info(f\"Numero di core disponibili: {num_cores}, utilizzando {num_threads} thread\")\n",
    "\n",
    "    with ThreadPoolExecutor(max_workers=num_threads) as executor:\n",
    "        futures = []\n",
    "        for directory in directories:\n",
    "            for root, _, files in os.walk(directory):\n",
    "                for file_name in files:\n",
    "                    if file_name in exclude_files:\n",
    "                        continue\n",
    "                    file_path = os.path.join(root, file_name)\n",
    "                    futures.append(executor.submit(process_file, file_path))\n",
    "\n",
    "                    # Limita la coda delle attività per evitare sovraccarico\n",
    "                    if len(futures) >= num_threads * 2:  # Limita a due volte il numero di thread\n",
    "                        for future in as_completed(futures):\n",
    "                            result = future.result()\n",
    "                            if result:\n",
    "                                file_count += 1\n",
    "                            progress = (file_count / total_files) * 100\n",
    "                            sys.stdout.write(f\"\\rProgresso: {progress:.2f}%\")\n",
    "                            sys.stdout.flush()\n",
    "                        futures = []\n",
    "\n",
    "        # Completa le rimanenti attività\n",
    "        for future in as_completed(futures):\n",
    "            result = future.result()\n",
    "            if result:\n",
    "                file_count += 1\n",
    "            progress = (file_count / total_files) * 100\n",
    "            sys.stdout.write(f\"\\rProgresso: {progress:.2f}%\")\n",
    "            sys.stdout.flush()\n",
    "\n",
    "        sys.stdout.write('\\n')\n"
   ],
   "metadata": {
    "collapsed": false
   }
  },
  {
   "cell_type": "markdown",
   "source": [
    "# Main"
   ],
   "metadata": {
    "collapsed": false
   }
  },
  {
   "cell_type": "code",
   "execution_count": 50,
   "outputs": [],
   "source": [
    "def main():\n",
    "    dataset_folder_path = os.path.abspath(\"Dataset\")  # Path alla cartella Dataset\n",
    "    subfolders = [\"Target\", \"Non-Target\"]\n",
    "    subfolder_paths = [os.path.join(dataset_folder_path, subfolder) for subfolder in subfolders]\n",
    "    lettura_audio(subfolder_paths)"
   ],
   "metadata": {
    "collapsed": false
   }
  },
  {
   "cell_type": "code",
   "execution_count": null,
   "outputs": [],
   "source": [
    "main()"
   ],
   "metadata": {
    "collapsed": false,
    "pycharm": {
     "is_executing": true
    }
   }
  }
 ],
 "metadata": {
  "kernelspec": {
   "display_name": "Python 3",
   "language": "python",
   "name": "python3"
  },
  "language_info": {
   "codemirror_mode": {
    "name": "ipython",
    "version": 2
   },
   "file_extension": ".py",
   "mimetype": "text/x-python",
   "name": "python",
   "nbconvert_exporter": "python",
   "pygments_lexer": "ipython2",
   "version": "2.7.6"
  }
 },
 "nbformat": 4,
 "nbformat_minor": 0
}
